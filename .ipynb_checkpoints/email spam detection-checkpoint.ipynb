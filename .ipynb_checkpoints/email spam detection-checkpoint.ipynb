{
 "cells": [
  {
   "cell_type": "code",
   "execution_count": 2,
   "id": "a1316acd",
   "metadata": {},
   "outputs": [
    {
     "name": "stdout",
     "output_type": "stream",
     "text": [
      "The message 'Congratulations! You've won a free cruise. Click here to claim your prize.' is predicted to be: spam\n",
      "The message 'Hey, are you free for lunch tomorrow?' is predicted to be: ham\n"
     ]
    }
   ],
   "source": [
    "import pandas as pd\n",
    "from sklearn.feature_extraction.text import CountVectorizer\n",
    "from sklearn.naive_bayes import MultinomialNB\n",
    "\n",
    "# Step 1: Data Loading and Preprocessing\n",
    "url = \"https://raw.githubusercontent.com/justmarkham/pycon-2016-tutorial/master/data/sms.tsv\"\n",
    "df = pd.read_csv(url, sep='\\t', header=None, names=['label', 'message'])\n",
    "\n",
    "# Convert the labels to binary values: 'spam' -> 1 and 'ham' -> 0\n",
    "df['label'] = df['label'].map({'ham': 0, 'spam': 1})\n",
    "\n",
    "# Feature Extraction\n",
    "vectorizer = CountVectorizer()\n",
    "X = vectorizer.fit_transform(df['message'])\n",
    "y = df['label']\n",
    "\n",
    "# Train the model\n",
    "model = MultinomialNB()\n",
    "model.fit(X, y)\n",
    "\n",
    "def predict_spam_ham(message):\n",
    "    # Convert the message to the same format as the training data\n",
    "    message_vectorized = vectorizer.transform([message])\n",
    "    \n",
    "    # Make the prediction\n",
    "    prediction = model.predict(message_vectorized)\n",
    "    \n",
    "    # Convert the prediction to 'spam' or 'ham'\n",
    "    return 'spam' if prediction[0] == 1 else 'ham'\n",
    "\n",
    "# Example usage:\n",
    "message = \"Congratulations! You've won a free cruise. Click here to claim your prize.\"\n",
    "print(f\"The message '{message}' is predicted to be: {predict_spam_ham(message)}\")\n",
    "\n",
    "message = \"Hey, are you free for lunch tomorrow?\"\n",
    "print(f\"The message '{message}' is predicted to be: {predict_spam_ham(message)}\")\n"
   ]
  },
  {
   "cell_type": "code",
   "execution_count": null,
   "id": "5d60d305",
   "metadata": {},
   "outputs": [],
   "source": []
  }
 ],
 "metadata": {
  "kernelspec": {
   "display_name": "Python 3 (ipykernel)",
   "language": "python",
   "name": "python3"
  },
  "language_info": {
   "codemirror_mode": {
    "name": "ipython",
    "version": 3
   },
   "file_extension": ".py",
   "mimetype": "text/x-python",
   "name": "python",
   "nbconvert_exporter": "python",
   "pygments_lexer": "ipython3",
   "version": "3.10.9"
  }
 },
 "nbformat": 4,
 "nbformat_minor": 5
}
